{
 "cells": [
  {
   "cell_type": "code",
   "execution_count": 1,
   "id": "246d2de7",
   "metadata": {},
   "outputs": [
    {
     "name": "stdout",
     "output_type": "stream",
     "text": [
      "Hello World\n"
     ]
    }
   ],
   "source": [
    "print(\"Hello World\")"
   ]
  },
  {
   "cell_type": "code",
   "execution_count": 2,
   "id": "639f9c2e",
   "metadata": {},
   "outputs": [
    {
     "data": {
      "text/plain": [
       "16"
      ]
     },
     "execution_count": 2,
     "metadata": {},
     "output_type": "execute_result"
    }
   ],
   "source": [
    "2**4"
   ]
  },
  {
   "cell_type": "code",
   "execution_count": 3,
   "id": "6dd050ad",
   "metadata": {},
   "outputs": [
    {
     "data": {
      "text/plain": [
       "3.0"
      ]
     },
     "execution_count": 3,
     "metadata": {},
     "output_type": "execute_result"
    }
   ],
   "source": [
    "2*3/2"
   ]
  },
  {
   "cell_type": "code",
   "execution_count": 4,
   "id": "4959e451",
   "metadata": {},
   "outputs": [
    {
     "data": {
      "text/plain": [
       "float"
      ]
     },
     "execution_count": 4,
     "metadata": {},
     "output_type": "execute_result"
    }
   ],
   "source": [
    "type(33.05)"
   ]
  },
  {
   "cell_type": "code",
   "execution_count": 6,
   "id": "9c7cad7f",
   "metadata": {},
   "outputs": [
    {
     "data": {
      "text/plain": [
       "str"
      ]
     },
     "execution_count": 6,
     "metadata": {},
     "output_type": "execute_result"
    }
   ],
   "source": [
    "type(\"true\")"
   ]
  },
  {
   "cell_type": "code",
   "execution_count": 7,
   "id": "18f01d15",
   "metadata": {},
   "outputs": [
    {
     "data": {
      "text/plain": [
       "str"
      ]
     },
     "execution_count": 7,
     "metadata": {},
     "output_type": "execute_result"
    }
   ],
   "source": [
    "type(\"fuck_everyone\")"
   ]
  },
  {
   "cell_type": "code",
   "execution_count": 8,
   "id": "7eede5f1",
   "metadata": {},
   "outputs": [
    {
     "data": {
      "text/plain": [
       "int"
      ]
     },
     "execution_count": 8,
     "metadata": {},
     "output_type": "execute_result"
    }
   ],
   "source": [
    "type(2)"
   ]
  },
  {
   "cell_type": "code",
   "execution_count": 11,
   "id": "c7012181",
   "metadata": {},
   "outputs": [
    {
     "name": "stdout",
     "output_type": "stream",
     "text": [
      "7\n"
     ]
    }
   ],
   "source": [
    "a=2\n",
    "b=5\n",
    "sum=a+b\n",
    "print(sum)"
   ]
  },
  {
   "cell_type": "code",
   "execution_count": 16,
   "id": "eac319a8",
   "metadata": {},
   "outputs": [
    {
     "name": "stdout",
     "output_type": "stream",
     "text": [
      "15\n"
     ]
    }
   ],
   "source": [
    "age_a=20\n",
    "age_b=35\n",
    "difference=age_b-age_a\n",
    "print(difference)"
   ]
  },
  {
   "cell_type": "code",
   "execution_count": 20,
   "id": "dcb45d28",
   "metadata": {},
   "outputs": [
    {
     "name": "stdout",
     "output_type": "stream",
     "text": [
      "I am a python beginner\n",
      " and I am learning at a fast pace\n"
     ]
    }
   ],
   "source": [
    "print(\"I am a python beginner\\n and I am learning at a fast pace\")"
   ]
  },
  {
   "cell_type": "code",
   "execution_count": 21,
   "id": "63ba1618",
   "metadata": {},
   "outputs": [
    {
     "name": "stdout",
     "output_type": "stream",
     "text": [
      "I am a python beginner\t and I am learning at a fast pace\n"
     ]
    }
   ],
   "source": [
    "print(\"I am a python beginner\\t and I am learning at a fast pace\")"
   ]
  },
  {
   "cell_type": "code",
   "execution_count": 24,
   "id": "46be8e5e",
   "metadata": {},
   "outputs": [
    {
     "data": {
      "text/plain": [
       "'voca'"
      ]
     },
     "execution_count": 24,
     "metadata": {},
     "output_type": "execute_result"
    }
   ],
   "source": [
    "word=\"vocabulary\"\n",
    "word[0:4]"
   ]
  },
  {
   "cell_type": "markdown",
   "id": "243c1ce5",
   "metadata": {},
   "source": []
  },
  {
   "cell_type": "code",
   "execution_count": 25,
   "id": "cdfcf4a1",
   "metadata": {},
   "outputs": [
    {
     "data": {
      "text/plain": [
       "False"
      ]
     },
     "execution_count": 25,
     "metadata": {},
     "output_type": "execute_result"
    }
   ],
   "source": [
    "15>30"
   ]
  },
  {
   "cell_type": "code",
   "execution_count": 26,
   "id": "c9425ba8",
   "metadata": {},
   "outputs": [
    {
     "data": {
      "text/plain": [
       "True"
      ]
     },
     "execution_count": 26,
     "metadata": {},
     "output_type": "execute_result"
    }
   ],
   "source": [
    "30>15"
   ]
  },
  {
   "cell_type": "code",
   "execution_count": 2,
   "id": "f1eda43c",
   "metadata": {},
   "outputs": [
    {
     "data": {
      "text/plain": [
       "'HELLO WORLD I AM STILL A BEGINNER PYTHONISTA'"
      ]
     },
     "execution_count": 2,
     "metadata": {},
     "output_type": "execute_result"
    }
   ],
   "source": [
    "basic=\"hello world i am still a beginner pythonista\"\n",
    "basic.upper()"
   ]
  },
  {
   "cell_type": "code",
   "execution_count": 4,
   "id": "6eb0e575",
   "metadata": {},
   "outputs": [
    {
     "data": {
      "text/plain": [
       "'my name is faizat people'"
      ]
     },
     "execution_count": 4,
     "metadata": {},
     "output_type": "execute_result"
    }
   ],
   "source": [
    "basic =\"MY NAME IS FAIZAT PEOPLE\"\n",
    "basic.lower()"
   ]
  },
  {
   "cell_type": "code",
   "execution_count": 8,
   "id": "b2f6641f",
   "metadata": {},
   "outputs": [],
   "source": [
    "import numpy\n",
    "import numpy as np"
   ]
  },
  {
   "cell_type": "code",
   "execution_count": 9,
   "id": "e55e909d",
   "metadata": {},
   "outputs": [
    {
     "name": "stdout",
     "output_type": "stream",
     "text": [
      "[1 2 3 4 5]\n",
      "the shape of x is (5,)\n",
      "[ 9 18]\n",
      "the shape of y is (2,)\n"
     ]
    }
   ],
   "source": [
    "x= np.array([1, 2, 3, 4, 5])\n",
    "y= np.array([9,18])\n",
    "print(x)\n",
    "print(\"the shape of x is\",x.shape)\n",
    "\n",
    "print(y)\n",
    "print(\"the shape of y is\",y.shape)"
   ]
  },
  {
   "cell_type": "code",
   "execution_count": 18,
   "id": "64335ac4",
   "metadata": {},
   "outputs": [
    {
     "name": "stdout",
     "output_type": "stream",
     "text": [
      "the difference is  10\n",
      "20\n",
      "the age of our tutor is 20\n",
      "30\n",
      "the age of mr abanikanda is 30\n"
     ]
    }
   ],
   "source": [
    "age = 20\n",
    "age2 =30\n",
    "difference = age2 - age\n",
    "print(\"the difference is \",difference)\n",
    "print(age)\n",
    "print(\"the age of our tutor is\",age)\n",
    "print(age2)\n",
    "print(\"the age of mr abanikanda is\",age2)"
   ]
  },
  {
   "cell_type": "code",
   "execution_count": 23,
   "id": "6d85f926",
   "metadata": {},
   "outputs": [
    {
     "name": "stdout",
     "output_type": "stream",
     "text": [
      "welcome temmy_gem and your password is 12334\n"
     ]
    }
   ],
   "source": [
    "user_name=\"temmy_gem\"\n",
    "password=\"12334\"\n",
    "print (\"welcome {} and your password is {}\".format (user_name, password))"
   ]
  },
  {
   "cell_type": "code",
   "execution_count": 29,
   "id": "6ab15718",
   "metadata": {},
   "outputs": [
    {
     "name": "stdout",
     "output_type": "stream",
     "text": [
      "[[[ 1  2  3]\n",
      "  [ 4  5  6]\n",
      "  [ 7  8  9]]\n",
      "\n",
      " [[10 11 12]\n",
      "  [13 14 15]\n",
      "  [16 17 18]]] \n",
      "\n",
      "The shape of w is (2, 3, 3)\n"
     ]
    }
   ],
   "source": [
    "w = np.array([[[1,2,3],[4,5,6],[7,8,9]],[[10,11,12],[13,14,15],[16,17,18]]])\n",
    "print(w,'\\n')\n",
    "print('The shape of w is' , w.shape)"
   ]
  },
  {
   "cell_type": "code",
   "execution_count": 30,
   "id": "b7ecdfc6",
   "metadata": {},
   "outputs": [
    {
     "name": "stdout",
     "output_type": "stream",
     "text": [
      "please enter your username:temmy_gem\n",
      "please enter your password:12334\n",
      "welcome temmy_gem and your password is 12334\n"
     ]
    }
   ],
   "source": [
    "user_name=input(\"please enter your username:\")\n",
    "password=input(\"please enter your password:\")\n",
    "print (\"welcome {} and your password is {}\".format (user_name, password))"
   ]
  },
  {
   "cell_type": "code",
   "execution_count": 32,
   "id": "2e32fe0a",
   "metadata": {},
   "outputs": [
    {
     "name": "stdout",
     "output_type": "stream",
     "text": [
      "please enter a decimal value:0.57\n",
      "please enter a whole value:32\n",
      "sum: 32.57\n"
     ]
    }
   ],
   "source": [
    "a= input(\"please enter a decimal value:\")\n",
    "b=input(\"please enter a whole value:\")\n",
    "sum = float(a) + int(b)\n",
    "print (\"sum: \"+ str(sum))"
   ]
  },
  {
   "cell_type": "code",
   "execution_count": 37,
   "id": "ccdd7d92",
   "metadata": {},
   "outputs": [
    {
     "name": "stdout",
     "output_type": "stream",
     "text": [
      "please enter your tutor's age:20\n",
      "please enter mr abanikanda's age35\n",
      "difference:15\n"
     ]
    }
   ],
   "source": [
    "c= input(\"please enter your tutor's age:\")\n",
    "d= input(\"please enter mr abanikanda's age\")\n",
    "difference = int(d) - int (c)\n",
    "print (\"difference:\" + str(difference))"
   ]
  },
  {
   "cell_type": "code",
   "execution_count": null,
   "id": "5d7971e6",
   "metadata": {},
   "outputs": [],
   "source": []
  },
  {
   "cell_type": "code",
   "execution_count": null,
   "id": "ae13fc55",
   "metadata": {},
   "outputs": [],
   "source": []
  }
 ],
 "metadata": {
  "kernelspec": {
   "display_name": "Python 3",
   "language": "python",
   "name": "python3"
  },
  "language_info": {
   "codemirror_mode": {
    "name": "ipython",
    "version": 3
   },
   "file_extension": ".py",
   "mimetype": "text/x-python",
   "name": "python",
   "nbconvert_exporter": "python",
   "pygments_lexer": "ipython3",
   "version": "3.8.8"
  }
 },
 "nbformat": 4,
 "nbformat_minor": 5
}
